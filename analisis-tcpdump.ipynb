{
 "cells": [
  {
   "cell_type": "markdown",
   "metadata": {},
   "source": [
    "# Analisis de tcpdump"
   ]
  },
  {
   "cell_type": "markdown",
   "metadata": {},
   "source": [
    "## Instalación en Ubuntu 24.04 de tcpdump"
   ]
  },
  {
   "cell_type": "markdown",
   "metadata": {},
   "source": [
    "La instalación de tcpdump en Ubuntu 24.04 no es sencilla, sino que ya esta realizada en esta distribución de Linux esta herramienta de software viene preinstalada y preparada para usar, recordemos que para su uso es necesario tener privilegios de administrador. Por lo tanto esta lista para usar con solo escribir en nuestra consola, (recordemos que tcpdump es una herramienta para usar a traves de la consola o shell del sistema) el siguiente comando:\n",
    "\n",
    "```bash\n",
    "\n",
    "sudo tcpdump\n",
    "\n",
    "```"
   ]
  },
  {
   "cell_type": "markdown",
   "metadata": {},
   "source": []
  }
 ],
 "metadata": {
  "language_info": {
   "name": "python"
  }
 },
 "nbformat": 4,
 "nbformat_minor": 2
}
